{
 "cells": [
  {
   "cell_type": "markdown",
   "metadata": {},
   "source": [
    "Problem 1: Find the smoothed series of raw estimators and associated primary (first) wave peak and wavelength, given time series: 15, 16, 15, 14, 13, 12, 15, 18, 18, 19, 18, 19, 18, 19, 20, 20, 21, 21, 21, 21, 22, 24, 24 which represents observation of day temperature 23 days of January month 2020"
   ]
  },
  {
   "cell_type": "code",
   "execution_count": 3,
   "metadata": {},
   "outputs": [],
   "source": [
    "from matplotlib import pyplot as plt\n",
    "import pandas as pd\n",
    "import numpy as np\n"
   ]
  },
  {
   "cell_type": "code",
   "execution_count": 4,
   "metadata": {},
   "outputs": [],
   "source": [
    "temperature=[15, 16, 15, 14, 13, 12, 15, 18, 18, 19, 18, 19, 18, 19, 20, 20, 21, 21, 21, 21, 22, 24, 24]"
   ]
  },
  {
   "cell_type": "code",
   "execution_count": 5,
   "metadata": {},
   "outputs": [
    {
     "data": {
      "text/plain": [
       "list"
      ]
     },
     "execution_count": 5,
     "metadata": {},
     "output_type": "execute_result"
    }
   ],
   "source": [
    "type(temperature)"
   ]
  },
  {
   "cell_type": "code",
   "execution_count": 6,
   "metadata": {},
   "outputs": [],
   "source": [
    "#n is no of observations\n",
    "n=23"
   ]
  },
  {
   "cell_type": "code",
   "execution_count": 7,
   "metadata": {},
   "outputs": [
    {
     "data": {
      "text/plain": [
       "12"
      ]
     },
     "execution_count": 7,
     "metadata": {},
     "output_type": "execute_result"
    }
   ],
   "source": [
    "\n",
    "#temperature min value\n",
    "np.min(temperature)\n",
    "\n"
   ]
  },
  {
   "cell_type": "code",
   "execution_count": 8,
   "metadata": {},
   "outputs": [
    {
     "data": {
      "text/plain": [
       "24"
      ]
     },
     "execution_count": 8,
     "metadata": {},
     "output_type": "execute_result"
    }
   ],
   "source": [
    "\n",
    "#temperature max value\n",
    "np.max(temperature)"
   ]
  },
  {
   "cell_type": "code",
   "execution_count": 9,
   "metadata": {},
   "outputs": [],
   "source": [
    "df=temperature"
   ]
  },
  {
   "cell_type": "code",
   "execution_count": 10,
   "metadata": {},
   "outputs": [],
   "source": [
    "#since day start from 1\n",
    "#let days be defined as  \n",
    "days=[1,2,3,4,5,6,7,8,9,10,11,12,13,14,15,16,17,18,19,20,21,22,23]"
   ]
  },
  {
   "cell_type": "code",
   "execution_count": 11,
   "metadata": {},
   "outputs": [
    {
     "data": {
      "text/plain": [
       "list"
      ]
     },
     "execution_count": 11,
     "metadata": {},
     "output_type": "execute_result"
    }
   ],
   "source": [
    "type(days)"
   ]
  },
  {
   "cell_type": "code",
   "execution_count": 12,
   "metadata": {},
   "outputs": [
    {
     "data": {
      "image/png": "[encoded data removed]",
      "text/plain": [
       "<Figure size 432x288 with 1 Axes>"
      ]
     },
     "metadata": {
      "needs_background": "light"
     },
     "output_type": "display_data"
    }
   ],
   "source": [
    "# temperature vs days graph before sorting\n",
    "import numpy as np\n",
    "import matplotlib.pyplot as plt\n",
    "\n",
    "plt.title('Days vs Temperature')\n",
    "\n",
    "plt.plot(df,days,'-*',color='r')\n",
    "\n",
    "\n",
    "plt.show()"
   ]
  },
  {
   "cell_type": "code",
   "execution_count": 13,
   "metadata": {},
   "outputs": [
    {
     "name": "stdout",
     "output_type": "stream",
     "text": [
      "[12 13 14 15 15 15 16 18 18 18 18 19 19 19 20 20 21 21 21 21 22 24 24]\n"
     ]
    }
   ],
   "source": [
    "sorted_df=np.sort(df)\n",
    "print(sorted_df)"
   ]
  },
  {
   "cell_type": "code",
   "execution_count": 14,
   "metadata": {},
   "outputs": [
    {
     "name": "stdout",
     "output_type": "stream",
     "text": [
      "24\n"
     ]
    }
   ],
   "source": [
    "peak_value=np.max(sorted_df)\n",
    "print(peak_value)"
   ]
  },
  {
   "cell_type": "code",
   "execution_count": 15,
   "metadata": {},
   "outputs": [
    {
     "data": {
      "image/png": "[encoded data removed]",
      "text/plain": [
       "<Figure size 432x288 with 1 Axes>"
      ]
     },
     "metadata": {
      "needs_background": "light"
     },
     "output_type": "display_data"
    }
   ],
   "source": [
    "# temperature graph after sorting\n",
    "plt.plot(sorted_df,days,color='g')\n",
    "plt.plot(peak_value,'.',color='r')\n",
    "plt.show()"
   ]
  },
  {
   "cell_type": "markdown",
   "metadata": {},
   "source": [
    "You have a group of individuals randomly split into smaller groups and completing different tasks. For example, you might be studying the effects of tea on weight loss and form three groups: green tea, black tea, and no tea. Perform ANOVA test to find out whether green tea is more effective or black tea for the following data set: (g, 0.1), (g, 0.2), (g, -0.3), (g, 0.0), (g, -0.1), (b, 0.1), (b, 0.1), (b, 0.2), (b, 0.2), (n, 0.0), (n, 0.1), (n, 0.2), (n, -0.05), (n, 0.1) where each pair represents an element of data set comprised of observations of 5 continuous days on 3 different persons having different tea intake. Element's first entity tells whether a person is taking g (green tea), b (black tea) or n (no tea) and second entity tells the change in weight (positive = gain, negative = loss)"
   ]
  },
  {
   "cell_type": "code",
   "execution_count": 16,
   "metadata": {},
   "outputs": [],
   "source": [
    "#(g, 0.1), (g, 0.2), (g, -0.3), (g, 0.0), (g, -0.1) #green tea"
   ]
  },
  {
   "cell_type": "code",
   "execution_count": 17,
   "metadata": {},
   "outputs": [],
   "source": [
    "#(b, 0.1), (b, 0.1), (b, 0.2), (b, 0.2),(b,0) #black tea"
   ]
  },
  {
   "cell_type": "code",
   "execution_count": 18,
   "metadata": {},
   "outputs": [],
   "source": [
    "# (n, 0.0), (n, 0.1), (n, 0.2), (n, -0.05), (n, 0.1) # no tea"
   ]
  },
  {
   "cell_type": "code",
   "execution_count": null,
   "metadata": {},
   "outputs": [],
   "source": [
    "#no of days=5 "
   ]
  },
  {
   "cell_type": "code",
   "execution_count": 30,
   "metadata": {},
   "outputs": [
    {
     "name": "stdout",
     "output_type": "stream",
     "text": [
      "     g    b     n\n",
      "0  0.1  0.1  0.00\n",
      "1  0.2  0.1  0.10\n",
      "2 -0.3  0.2  0.20\n",
      "3  0.0  0.2 -0.05\n",
      "4 -0.1  0.0  0.10\n"
     ]
    }
   ],
   "source": [
    "df= pd.read_csv('data.csv')\n",
    "print(df)"
   ]
  },
  {
   "cell_type": "code",
   "execution_count": 42,
   "metadata": {},
   "outputs": [
    {
     "name": "stdout",
     "output_type": "stream",
     "text": [
      "0.31250000000000006\n"
     ]
    }
   ],
   "source": [
    "rss=(0.1)**2+(0.1)**2+(0.2)**2+(0.1)**2+(0.10)**2+(-0.3)**2+(0.2)**2+(0.20)**2+(0.2)**2+(-0.05)**2+(-0.1)**2+(0.10)**2\n",
    "print(rss)"
   ]
  },
  {
   "cell_type": "code",
   "execution_count": 43,
   "metadata": {},
   "outputs": [
    {
     "name": "stdout",
     "output_type": "stream",
     "text": [
      "g   -0.10\n",
      "b    0.60\n",
      "n    0.35\n",
      "dtype: float64\n"
     ]
    }
   ],
   "source": [
    "#sum of coloums\n",
    "dc=df.sum(axis=0)\n",
    "print(dc)"
   ]
  },
  {
   "cell_type": "code",
   "execution_count": 44,
   "metadata": {},
   "outputs": [
    {
     "name": "stdout",
     "output_type": "stream",
     "text": [
      "0.8500000000000002\n"
     ]
    }
   ],
   "source": [
    "#grand total of columns\n",
    "gtc=dc.sum(axis=0)\n",
    "print(gtc)"
   ]
  },
  {
   "cell_type": "code",
   "execution_count": 45,
   "metadata": {},
   "outputs": [
    {
     "name": "stdout",
     "output_type": "stream",
     "text": [
      "0    0.20\n",
      "1    0.40\n",
      "2    0.10\n",
      "3    0.15\n",
      "4    0.00\n",
      "dtype: float64\n"
     ]
    }
   ],
   "source": [
    "#sum of rows\n",
    "df1=df.sum(axis=1)\n",
    "print(df1)"
   ]
  },
  {
   "cell_type": "code",
   "execution_count": 46,
   "metadata": {},
   "outputs": [
    {
     "data": {
      "text/plain": [
       "0.8500000000000002"
      ]
     },
     "execution_count": 46,
     "metadata": {},
     "output_type": "execute_result"
    }
   ],
   "source": [
    "#grand total of rows\n",
    "df1.sum(axis=0)"
   ]
  },
  {
   "cell_type": "code",
   "execution_count": 47,
   "metadata": {},
   "outputs": [],
   "source": [
    "#alpha=0.5 so now gtc=gtr=0.8500000000000002 \n",
    "n=rt=5*3"
   ]
  },
  {
   "cell_type": "code",
   "execution_count": 48,
   "metadata": {},
   "outputs": [
    {
     "name": "stdout",
     "output_type": "stream",
     "text": [
      "0.04816666666666669\n"
     ]
    }
   ],
   "source": [
    "c=(gtc)**2/n\n",
    "print(c)"
   ]
  },
  {
   "cell_type": "code",
   "execution_count": 51,
   "metadata": {},
   "outputs": [
    {
     "name": "stdout",
     "output_type": "stream",
     "text": [
      "0.26433333333333336\n"
     ]
    }
   ],
   "source": [
    "#tss\n",
    "tss=rss-c\n",
    "print(tss)"
   ]
  },
  {
   "cell_type": "code",
   "execution_count": 52,
   "metadata": {},
   "outputs": [],
   "source": [
    "#treatment\n",
    "trtss=((-0.10)**2+(0.60)**2+(0.35)**2)/3"
   ]
  },
  {
   "cell_type": "code",
   "execution_count": 56,
   "metadata": {},
   "outputs": [
    {
     "name": "stdout",
     "output_type": "stream",
     "text": [
      "0.04650000000000001\n"
     ]
    }
   ],
   "source": [
    "#block ssb= \n",
    "blockssb=((0.20)**2+(0.40)**2+(0.10)**2+(0.15)**2+(0.00)**2)/5\n",
    "print(blockssb)"
   ]
  },
  {
   "cell_type": "code",
   "execution_count": 58,
   "metadata": {},
   "outputs": [
    {
     "name": "stdout",
     "output_type": "stream",
     "text": [
      "0.10016666666666671\n"
     ]
    }
   ],
   "source": [
    "Errorsse=tss-trtss\n",
    "print(Errorsse)"
   ]
  },
  {
   "cell_type": "code",
   "execution_count": 61,
   "metadata": {},
   "outputs": [
    {
     "data": {
      "text/plain": [
       "0.06608333333333334"
      ]
     },
     "execution_count": 61,
     "metadata": {},
     "output_type": "execute_result"
    }
   ],
   "source": [
    "tss/4"
   ]
  },
  {
   "cell_type": "code",
   "execution_count": 62,
   "metadata": {},
   "outputs": [
    {
     "data": {
      "text/plain": [
       "0.023250000000000003"
      ]
     },
     "execution_count": 62,
     "metadata": {},
     "output_type": "execute_result"
    }
   ],
   "source": [
    "blockssb/2"
   ]
  },
  {
   "cell_type": "code",
   "execution_count": 63,
   "metadata": {},
   "outputs": [
    {
     "data": {
      "text/plain": [
       "0.012520833333333339"
      ]
     },
     "execution_count": 63,
     "metadata": {},
     "output_type": "execute_result"
    }
   ],
   "source": [
    "0.10016666666666671/8"
   ]
  },
  {
   "cell_type": "code",
   "execution_count": null,
   "metadata": {},
   "outputs": [],
   "source": [
    "\n",
    "#Annova table from here any observation can be found out\n",
    "source   df  ss                     mss                   fcal\n",
    "treat    2   0.26433333333333336    0.06608333333333334   5.277870216306154\n",
    "block    4   0.04650000000000001    0.023250000000000003  1.856905158069883\n",
    "error    8   0.10016666666666671    0.012520833333333339"
   ]
  },
  {
   "cell_type": "code",
   "execution_count": 64,
   "metadata": {},
   "outputs": [
    {
     "data": {
      "text/plain": [
       "5.277870216306154"
      ]
     },
     "execution_count": 64,
     "metadata": {},
     "output_type": "execute_result"
    }
   ],
   "source": [
    "0.06608333333333334/0.012520833333333339"
   ]
  },
  {
   "cell_type": "code",
   "execution_count": 65,
   "metadata": {},
   "outputs": [
    {
     "data": {
      "text/plain": [
       "1.856905158069883"
      ]
     },
     "execution_count": 65,
     "metadata": {},
     "output_type": "execute_result"
    }
   ],
   "source": [
    "0.023250000000000003/0.012520833333333339"
   ]
  },
  {
   "cell_type": "code",
   "execution_count": null,
   "metadata": {},
   "outputs": [],
   "source": []
  }
 ],
 "metadata": {
  "kernelspec": {
   "display_name": "Python 3",
   "language": "python",
   "name": "python3"
  },
  "language_info": {
   "codemirror_mode": {
    "name": "ipython",
    "version": 3
   },
   "file_extension": ".py",
   "mimetype": "text/x-python",
   "name": "python",
   "nbconvert_exporter": "python",
   "pygments_lexer": "ipython3",
   "version": "3.8.5"
  }
 },
 "nbformat": 4,
 "nbformat_minor": 4
}
